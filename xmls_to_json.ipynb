{
 "cells": [
  {
   "cell_type": "markdown",
   "metadata": {},
   "source": [
    "## XMLs to JSON\n",
    "Convert XMLs file obtained by labelImg to json"
   ]
  },
  {
   "cell_type": "code",
   "execution_count": 29,
   "metadata": {},
   "outputs": [],
   "source": [
    "# Imports\n",
    "import os\n",
    "import glob\n",
    "import json\n",
    "from bs4 import BeautifulSoup"
   ]
  },
  {
   "cell_type": "markdown",
   "metadata": {},
   "source": [
    "### Get XML files\n",
    "Get all XMLs from subfolders and store them in a list"
   ]
  },
  {
   "cell_type": "code",
   "execution_count": 25,
   "metadata": {},
   "outputs": [],
   "source": [
    "data_folder = 'cup_data/'"
   ]
  },
  {
   "cell_type": "code",
   "execution_count": 26,
   "metadata": {},
   "outputs": [],
   "source": [
    "subfolders = os.listdir(data_folder)\n",
    "\n",
    "xml_files = []\n",
    "for folder in subfolders:\n",
    "    xml_files.extend(glob.glob(data_folder+folder+'/*.xml'))"
   ]
  },
  {
   "cell_type": "code",
   "execution_count": 46,
   "metadata": {},
   "outputs": [],
   "source": [
    "annotations_list = []\n",
    "\n",
    "for xml in xml_files:\n",
    "    with open(xml) as f:\n",
    "        soup = BeautifulSoup(f, 'lxml')\n",
    "    # get file path\n",
    "    abs_path = soup.path.text\n",
    "    # extract relative path\n",
    "    rel_path = data_folder + abs_path.split(data_folder)[1]\n",
    "    \n",
    "    string = {'annotations': [{\n",
    "       'xmin': int(soup.xmin.text),\n",
    "       'ymin': int(soup.ymin.text),\n",
    "       'xmax': int(soup.xmax.text),\n",
    "       'ymax': int(soup.ymax.text)}],\n",
    "       'class': soup.folder.text,\n",
    "       'file': rel_path}\n",
    "    annotations_list.append(string)  "
   ]
  },
  {
   "cell_type": "code",
   "execution_count": 49,
   "metadata": {},
   "outputs": [
    {
     "data": {
      "text/plain": [
       "{'annotations': [{'xmin': 629, 'ymin': 170, 'xmax': 934, 'ymax': 444}],\n",
       " 'class': 'spill',\n",
       " 'file': 'cup_data/spill/2019-06-11-171929_1.jpg'}"
      ]
     },
     "execution_count": 49,
     "metadata": {},
     "output_type": "execute_result"
    }
   ],
   "source": [
    "# sample anootations\n",
    "annotations_list[0]"
   ]
  },
  {
   "cell_type": "code",
   "execution_count": 48,
   "metadata": {},
   "outputs": [],
   "source": [
    "# \n",
    "with open('annotations.json', 'w')as f:\n",
    "    json.dump(annotations_list, f)"
   ]
  },
  {
   "cell_type": "code",
   "execution_count": null,
   "metadata": {},
   "outputs": [],
   "source": []
  }
 ],
 "metadata": {
  "kernelspec": {
   "display_name": "Python 3",
   "language": "python",
   "name": "python3"
  },
  "language_info": {
   "codemirror_mode": {
    "name": "ipython",
    "version": 3
   },
   "file_extension": ".py",
   "mimetype": "text/x-python",
   "name": "python",
   "nbconvert_exporter": "python",
   "pygments_lexer": "ipython3",
   "version": "3.6.8"
  }
 },
 "nbformat": 4,
 "nbformat_minor": 2
}
